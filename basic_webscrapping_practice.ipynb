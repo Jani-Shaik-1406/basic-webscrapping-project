{
 "cells": [
  {
   "cell_type": "code",
   "execution_count": 1,
   "metadata": {},
   "outputs": [
    {
     "name": "stdout",
     "output_type": "stream",
     "text": [
      "Requirement already satisfied: requests in c:\\users\\janis\\appdata\\local\\programs\\python\\python312\\lib\\site-packages (2.32.3)\n",
      "Requirement already satisfied: beautifulsoup4 in c:\\users\\janis\\appdata\\local\\programs\\python\\python312\\lib\\site-packages (4.13.3)\n",
      "Requirement already satisfied: charset-normalizer<4,>=2 in c:\\users\\janis\\appdata\\local\\programs\\python\\python312\\lib\\site-packages (from requests) (3.4.1)\n",
      "Requirement already satisfied: idna<4,>=2.5 in c:\\users\\janis\\appdata\\local\\programs\\python\\python312\\lib\\site-packages (from requests) (3.10)\n",
      "Requirement already satisfied: urllib3<3,>=1.21.1 in c:\\users\\janis\\appdata\\local\\programs\\python\\python312\\lib\\site-packages (from requests) (2.3.0)\n",
      "Requirement already satisfied: certifi>=2017.4.17 in c:\\users\\janis\\appdata\\local\\programs\\python\\python312\\lib\\site-packages (from requests) (2025.1.31)\n",
      "Requirement already satisfied: soupsieve>1.2 in c:\\users\\janis\\appdata\\local\\programs\\python\\python312\\lib\\site-packages (from beautifulsoup4) (2.6)\n",
      "Requirement already satisfied: typing-extensions>=4.0.0 in c:\\users\\janis\\appdata\\local\\programs\\python\\python312\\lib\\site-packages (from beautifulsoup4) (4.12.2)\n",
      "Note: you may need to restart the kernel to use updated packages.\n"
     ]
    },
    {
     "name": "stderr",
     "output_type": "stream",
     "text": [
      "\n",
      "[notice] A new release of pip is available: 25.0 -> 25.0.1\n",
      "[notice] To update, run: python.exe -m pip install --upgrade pip\n"
     ]
    }
   ],
   "source": [
    "pip install requests beautifulsoup4"
   ]
  },
  {
   "cell_type": "code",
   "execution_count": 2,
   "metadata": {},
   "outputs": [],
   "source": [
    "import requests\n",
    "from bs4 import BeautifulSoup\n",
    "\n",
    "# Step 1: Request the webpage\n",
    "url = 'https://www.bbc.com/news'\n",
    "headers = {\n",
    "    \"User-Agent\": \"Mozilla/5.0\"\n",
    "}\n",
    "response = requests.get(url, headers=headers)\n",
    "\n",
    "# Step 2: Parse HTML\n",
    "soup = BeautifulSoup(response.content, 'html.parser')\n",
    "\n",
    "# Step 3: Find headline tags\n",
    "headlines = soup.find_all('h3')\n",
    "\n",
    "# Step 4: Print headlines and links\n",
    "for idx, h in enumerate(headlines[:10]):  # Just top 10 headlines\n",
    "    title = h.get_text(strip=True)\n",
    "    link_tag = h.find_parent('a')\n",
    "    link = f\"https://www.bbc.com{link_tag['href']}\" if link_tag else \"No link\"\n",
    "    print(f\"{idx+1}. {title}\")\n",
    "    print(f\"   🔗 {link}\")\n"
   ]
  },
  {
   "cell_type": "code",
   "execution_count": 3,
   "metadata": {},
   "outputs": [
    {
     "name": "stdout",
     "output_type": "stream",
     "text": [
      "Status Code: 200\n"
     ]
    }
   ],
   "source": [
    "print(\"Status Code:\", response.status_code)\n"
   ]
  },
  {
   "cell_type": "code",
   "execution_count": 4,
   "metadata": {},
   "outputs": [
    {
     "name": "stdout",
     "output_type": "stream",
     "text": [
      "Home - BBC News\n"
     ]
    }
   ],
   "source": [
    "print(soup.title.text)\n"
   ]
  },
  {
   "cell_type": "code",
   "execution_count": 5,
   "metadata": {},
   "outputs": [
    {
     "name": "stdout",
     "output_type": "stream",
     "text": [
      "<!DOCTYPE html>\n",
      "<html lang=\"en-GB\">\n",
      " <head>\n",
      "  <meta charset=\"utf-8\"/>\n",
      "  <meta content=\"width=device-width\" name=\"viewport\"/>\n",
      "  <title>\n",
      "   Home - BBC News\n",
      "  </title>\n",
      "  <meta content=\"Home - BBC News\" property=\"og:title\"/>\n",
      "  <meta content=\"Home - BBC News\" name=\"twitter:title\"/>\n",
      "  <meta content=\"Visit BBC News for up-to-the-minute news, breaking news, video, audio and feature stories. BBC News provides trusted World and UK news as well as local and regional perspectives. Also entertainment, business, science, technology and health news.\" name=\"description\"/>\n",
      "  <meta content=\"Visit BBC News for up-to-the-minute news, breaking news, video, audio and feature stories. BBC News provides trusted World and UK news as well as local and regional perspectives. Also entertainment, business, science, technology and health news.\" property=\"og:description\"/>\n",
      "  <meta content=\"Visit BBC News for up-to-the-minute news, breaking news, video, audio and feature stories. BBC News provides trusted World and U\n"
     ]
    }
   ],
   "source": [
    "print(soup.prettify()[:1000])  # Show first 1000 characters of HTML\n"
   ]
  },
  {
   "cell_type": "code",
   "execution_count": 6,
   "metadata": {},
   "outputs": [],
   "source": [
    "headlines = soup.select('a.gs-c-promo-heading')\n"
   ]
  },
  {
   "cell_type": "code",
   "execution_count": 7,
   "metadata": {},
   "outputs": [],
   "source": [
    "for idx, tag in enumerate(headlines[:10]):\n",
    "    title = tag.get_text(strip=True)\n",
    "    link = f\"https://www.bbc.com{tag['href']}\" if tag.has_attr('href') else 'No link'\n",
    "    print(f\"{idx+1}. {title}\")\n",
    "    print(f\"   🔗 {link}\")\n"
   ]
  },
  {
   "cell_type": "code",
   "execution_count": 8,
   "metadata": {},
   "outputs": [
    {
     "name": "stdout",
     "output_type": "stream",
     "text": [
      "Status Code: 200\n"
     ]
    }
   ],
   "source": [
    "import requests\n",
    "from bs4 import BeautifulSoup\n",
    "\n",
    "url = 'https://www.bbc.com/news'\n",
    "headers = {\n",
    "    \"User-Agent\": \"Mozilla/5.0\"\n",
    "}\n",
    "response = requests.get(url, headers=headers)\n",
    "print(\"Status Code:\", response.status_code)\n",
    "\n",
    "soup = BeautifulSoup(response.content, 'html.parser')\n",
    "\n",
    "# Updated selector to match BBC's actual HTML structure\n",
    "headlines = soup.select('a.gs-c-promo-heading')\n",
    "\n",
    "for idx, tag in enumerate(headlines[:10]):\n",
    "    title = tag.get_text(strip=True)\n",
    "    link = f\"https://www.bbc.com{tag['href']}\" if tag.has_attr('href') else 'No link'\n",
    "    print(f\"{idx+1}. {title}\")\n",
    "    print(f\"   🔗 {link}\")\n"
   ]
  },
  {
   "cell_type": "code",
   "execution_count": 9,
   "metadata": {},
   "outputs": [
    {
     "ename": "NameError",
     "evalue": "name 'link' is not defined",
     "output_type": "error",
     "traceback": [
      "\u001b[1;31m---------------------------------------------------------------------------\u001b[0m",
      "\u001b[1;31mNameError\u001b[0m                                 Traceback (most recent call last)",
      "Cell \u001b[1;32mIn[9], line 1\u001b[0m\n\u001b[1;32m----> 1\u001b[0m \u001b[38;5;28mprint\u001b[39m(\u001b[38;5;124mf\u001b[39m\u001b[38;5;124m\"\u001b[39m\u001b[38;5;124m🔗 \u001b[39m\u001b[38;5;132;01m{\u001b[39;00m\u001b[43mlink\u001b[49m\u001b[38;5;132;01m}\u001b[39;00m\u001b[38;5;124m\"\u001b[39m)\n",
      "\u001b[1;31mNameError\u001b[0m: name 'link' is not defined"
     ]
    }
   ],
   "source": [
    "print(f\"🔗 {link}\")\n"
   ]
  },
  {
   "cell_type": "code",
   "execution_count": 10,
   "metadata": {},
   "outputs": [
    {
     "name": "stdout",
     "output_type": "stream",
     "text": [
      "Status Code: 200\n"
     ]
    }
   ],
   "source": [
    "import requests\n",
    "from bs4 import BeautifulSoup\n",
    "\n",
    "url = 'https://www.bbc.com/news'\n",
    "headers = {\n",
    "    \"User-Agent\": \"Mozilla/5.0\"\n",
    "}\n",
    "response = requests.get(url, headers=headers)\n",
    "print(\"Status Code:\", response.status_code)\n",
    "\n",
    "soup = BeautifulSoup(response.content, 'html.parser')\n",
    "\n",
    "# Updated selector to match BBC's actual HTML structure\n",
    "headlines = soup.select('a.gs-c-promo-heading')\n",
    "\n",
    "for idx, tag in enumerate(headlines[:10]):\n",
    "    title = tag.get_text(strip=True)\n",
    "    link = f\"https://www.bbc.com{tag['href']}\" if tag.has_attr('href') else 'No link'\n",
    "    print(f\"{idx+1}. {title}\")\n",
    "    print(f\"   🔗 {link}\")\n"
   ]
  },
  {
   "cell_type": "code",
   "execution_count": 12,
   "metadata": {},
   "outputs": [
    {
     "name": "stdout",
     "output_type": "stream",
     "text": [
      "Status Code: 200\n"
     ]
    }
   ],
   "source": [
    "import requests\n",
    "from bs4 import BeautifulSoup\n",
    "\n",
    "url = 'https://www.bbc.com/news'\n",
    "headers = {\n",
    "    \"User-Agent\": \"Mozilla/5.0\"\n",
    "}\n",
    "response = requests.get(url, headers=headers)\n",
    "print(\"Status Code:\", response.status_code)\n",
    "\n",
    "soup = BeautifulSoup(response.content, 'html.parser')\n",
    "\n",
    "# Use correct selector\n",
    "headlines = soup.select('a.gs-c-promo-heading')\n",
    "\n",
    "for idx, tag in enumerate(headlines[:10]):\n",
    "    title = tag.get_text(strip=True)\n",
    "    href = tag['href'] if tag.has_attr('href') else None\n",
    "    link = f\"https://www.bbc.com{href}\" if href and href.startswith('/') else href\n",
    "    print(f\"{idx+1}. {title}\")\n",
    "    print(f\"   🔗 {link}\")\n",
    "\n"
   ]
  },
  {
   "cell_type": "code",
   "execution_count": 13,
   "metadata": {},
   "outputs": [
    {
     "name": "stdout",
     "output_type": "stream",
     "text": [
      "Status Code: 200\n",
      "Total headlines found: 0\n"
     ]
    }
   ],
   "source": [
    "import requests\n",
    "from bs4 import BeautifulSoup\n",
    "\n",
    "# Step 1: Set the target URL and headers\n",
    "url = 'https://www.bbc.com/news'\n",
    "headers = {\n",
    "    \"User-Agent\": \"Mozilla/5.0\"\n",
    "}\n",
    "\n",
    "# Step 2: Send the request\n",
    "response = requests.get(url, headers=headers)\n",
    "print(\"Status Code:\", response.status_code)\n",
    "\n",
    "# Step 3: Parse the HTML content\n",
    "soup = BeautifulSoup(response.content, 'html.parser')\n",
    "\n",
    "# Step 4: Select elements containing headlines\n",
    "headlines = soup.select('a.gs-c-promo-heading')\n",
    "print(\"Total headlines found:\", len(headlines))\n",
    "\n",
    "# Step 5: Extract and print top 10 headlines\n",
    "for idx, tag in enumerate(headlines[:10]):\n",
    "    title = tag.get_text(strip=True)\n",
    "    href = tag['href'] if tag.has_attr('href') else None\n",
    "    link = f\"https://www.bbc.com{href}\" if href and href.startswith('/') else href\n",
    "    print(f\"{idx+1}. {title}\")\n",
    "    print(f\"   🔗 {link}\")\n"
   ]
  },
  {
   "cell_type": "code",
   "execution_count": 14,
   "metadata": {},
   "outputs": [
    {
     "name": "stdout",
     "output_type": "stream",
     "text": [
      "Status Code: 200\n",
      "Total quotes found: 10\n",
      "1. “The world as we have created it is a process of our thinking. It cannot be changed without changing our thinking.”\n",
      "   — Albert Einstein\n",
      "2. “It is our choices, Harry, that show what we truly are, far more than our abilities.”\n",
      "   — J.K. Rowling\n",
      "3. “There are only two ways to live your life. One is as though nothing is a miracle. The other is as though everything is a miracle.”\n",
      "   — Albert Einstein\n",
      "4. “The person, be it gentleman or lady, who has not pleasure in a good novel, must be intolerably stupid.”\n",
      "   — Jane Austen\n",
      "5. “Imperfection is beauty, madness is genius and it's better to be absolutely ridiculous than absolutely boring.”\n",
      "   — Marilyn Monroe\n",
      "6. “Try not to become a man of success. Rather become a man of value.”\n",
      "   — Albert Einstein\n",
      "7. “It is better to be hated for what you are than to be loved for what you are not.”\n",
      "   — André Gide\n",
      "8. “I have not failed. I've just found 10,000 ways that won't work.”\n",
      "   — Thomas A. Edison\n",
      "9. “A woman is like a tea bag; you never know how strong it is until it's in hot water.”\n",
      "   — Eleanor Roosevelt\n",
      "10. “A day without sunshine is like, you know, night.”\n",
      "   — Steve Martin\n"
     ]
    }
   ],
   "source": [
    "import requests\n",
    "from bs4 import BeautifulSoup\n",
    "\n",
    "# Step 1: Send request to the site\n",
    "url = 'http://quotes.toscrape.com/'\n",
    "headers = {\n",
    "    \"User-Agent\": \"Mozilla/5.0\"\n",
    "}\n",
    "response = requests.get(url, headers=headers)\n",
    "print(\"Status Code:\", response.status_code)\n",
    "\n",
    "# Step 2: Parse the page\n",
    "soup = BeautifulSoup(response.text, 'html.parser')\n",
    "\n",
    "# Step 3: Select quote blocks\n",
    "quotes = soup.select('div.quote')\n",
    "print(\"Total quotes found:\", len(quotes))\n",
    "\n",
    "# Step 4: Loop and display quotes\n",
    "for idx, quote in enumerate(quotes[:10]):\n",
    "    text = quote.find('span', class_='text').get_text(strip=True)\n",
    "    author = quote.find('small', class_='author').get_text(strip=True)\n",
    "    print(f\"{idx+1}. {text}\")\n",
    "    print(f\"   — {author}\")\n"
   ]
  },
  {
   "cell_type": "code",
   "execution_count": 15,
   "metadata": {},
   "outputs": [
    {
     "name": "stdout",
     "output_type": "stream",
     "text": [
      "<!DOCTYPE html>\n",
      "<html lang=\"en\">\n",
      "<head>\n",
      "\t<meta charset=\"UTF-8\">\n",
      "\t<title>Quotes to Scrape</title>\n",
      "    <link rel=\"stylesheet\" href=\"/static/bootstrap.min.css\">\n",
      "    <link rel=\"stylesheet\" href=\"/static/main.css\">\n",
      "    \n",
      "    \n",
      "</head>\n",
      "<body>\n",
      "    <div class=\"container\">\n",
      "        <div class=\"row header-box\">\n",
      "            <div class=\"col-md-8\">\n",
      "                <h1>\n",
      "                    <a href=\"/\" style=\"text-decoration: none\">Quotes to Scrape</a>\n",
      "                </h1>\n",
      "            </div>\n",
      "            <div class=\"col-md-4\">\n",
      "                <p>\n",
      "                \n",
      "                    <a href=\"/login\">Login</a>\n",
      "                \n",
      "                </p>\n",
      "            </div>\n",
      "        </div>\n",
      "    \n",
      "\n",
      "<div class=\"row\">\n",
      "    <div class=\"col-md-8\">\n",
      "\n",
      "    <div class=\"quote\" itemscope itemtype=\"http://schema.org/CreativeWork\">\n",
      "        <span class=\"text\" itemprop=\"text\">“The world as we have created it is a process of our thinking. It cannot be changed without changing our thinking.”</span>\n",
      "        <span>by <small class=\"auth\n"
     ]
    }
   ],
   "source": [
    "print(response.text[:1000])  # Show first 1000 characters of HTML\n"
   ]
  },
  {
   "cell_type": "code",
   "execution_count": 16,
   "metadata": {},
   "outputs": [
    {
     "name": "stdout",
     "output_type": "stream",
     "text": [
      "<!DOCTYPE html>\n",
      "<html lang=\"en\">\n",
      " <head>\n",
      "  <meta charset=\"utf-8\"/>\n",
      "  <title>\n",
      "   Quotes to Scrape\n",
      "  </title>\n",
      "  <link href=\"/static/bootstrap.min.css\" rel=\"stylesheet\"/>\n",
      "  <link href=\"/static/main.css\" rel=\"stylesheet\"/>\n",
      " </head>\n",
      " <body>\n",
      "  <div class=\"container\">\n",
      "   <div class=\"row header-box\">\n",
      "    <div class=\"col-md-8\">\n",
      "     <h1>\n",
      "      <a href=\"/\" style=\"text-decoration: none\">\n",
      "       Quotes to Scrape\n",
      "      </a>\n",
      "     </h1>\n",
      "    </div>\n",
      "    <div class=\"col-md-4\">\n",
      "     <p>\n",
      "      <a href=\"/login\">\n",
      "       Login\n",
      "      </a>\n",
      "     </p>\n",
      "    </div>\n",
      "   </div>\n",
      "   <div class=\"row\">\n",
      "    <div class=\"col-md-8\">\n",
      "     <div class=\"quote\" itemscope=\"\" itemtype=\"http://schema.org/CreativeWork\">\n",
      "      <span class=\"text\" itemprop=\"text\">\n",
      "       “The world as we have created it is a process of our thinking. It cannot be changed without changing our thinking.”\n",
      "      </span>\n",
      "      <span>\n",
      "       by\n",
      "       <small class=\"author\" itemprop=\"author\">\n",
      "        Albert Einstein\n",
      "       </small>\n",
      "       <a href=\"/author/Albert\n"
     ]
    }
   ],
   "source": [
    "print(soup.prettify()[:1000])  # Prettified HTML, first 1000 chars\n"
   ]
  },
  {
   "cell_type": "code",
   "execution_count": 17,
   "metadata": {},
   "outputs": [
    {
     "name": "stdout",
     "output_type": "stream",
     "text": [
      "\n",
      "--- Differences between Raw and Parsed HTML (first 100 lines) ---\n",
      "\n",
      "--- Raw HTML\n",
      "+++ Parsed HTML\n",
      "@@ -1,283 +1,392 @@\n",
      " <!DOCTYPE html>\n",
      " <html lang=\"en\">\n",
      "-<head>\n",
      "-\t<meta charset=\"UTF-8\">\n",
      "-\t<title>Quotes to Scrape</title>\n",
      "-    <link rel=\"stylesheet\" href=\"/static/bootstrap.min.css\">\n",
      "-    <link rel=\"stylesheet\" href=\"/static/main.css\">\n",
      "-    \n",
      "-    \n",
      "-</head>\n",
      "-<body>\n",
      "-    <div class=\"container\">\n",
      "-        <div class=\"row header-box\">\n",
      "-            <div class=\"col-md-8\">\n",
      "-                <h1>\n",
      "-                    <a href=\"/\" style=\"text-decoration: none\">Quotes to Scrape</a>\n",
      "-                </h1>\n",
      "-            </div>\n",
      "-            <div class=\"col-md-4\">\n",
      "-                <p>\n",
      "-                \n",
      "-                    <a href=\"/login\">Login</a>\n",
      "-                \n",
      "-                </p>\n",
      "-            </div>\n",
      "-        </div>\n",
      "-    \n",
      "-\n",
      "-<div class=\"row\">\n",
      "+ <head>\n",
      "+  <meta charset=\"utf-8\"/>\n",
      "+  <title>\n",
      "+   Quotes to Scrape\n",
      "+  </title>\n",
      "+  <link href=\"/static/bootstrap.min.css\" rel=\"stylesheet\"/>\n",
      "+  <link href=\"/static/main.css\" rel=\"stylesheet\"/>\n",
      "+ </head>\n",
      "+ <body>\n",
      "+  <div class=\"container\">\n",
      "+   <div class=\"row header-box\">\n",
      "     <div class=\"col-md-8\">\n",
      "-\n",
      "-    <div class=\"quote\" itemscope itemtype=\"http://schema.org/CreativeWork\">\n",
      "-        <span class=\"text\" itemprop=\"text\">“The world as we have created it is a process of our thinking. It cannot be changed without changing our thinking.”</span>\n",
      "-        <span>by <small class=\"author\" itemprop=\"author\">Albert Einstein</small>\n",
      "-        <a href=\"/author/Albert-Einstein\">(about)</a>\n",
      "-        </span>\n",
      "-        <div class=\"tags\">\n",
      "-            Tags:\n",
      "-            <meta class=\"keywords\" itemprop=\"keywords\" content=\"change,deep-thoughts,thinking,world\" /    > \n",
      "-            \n",
      "-            <a class=\"tag\" href=\"/tag/change/page/1/\">change</a>\n",
      "-            \n",
      "-            <a class=\"tag\" href=\"/tag/deep-thoughts/page/1/\">deep-thoughts</a>\n",
      "-            \n",
      "-            <a class=\"tag\" href=\"/tag/thinking/page/1/\">thinking</a>\n",
      "-            \n",
      "-            <a class=\"tag\" href=\"/tag/world/page/1/\">world</a>\n",
      "-            \n",
      "-        </div>\n",
      "+     <h1>\n",
      "+      <a href=\"/\" style=\"text-decoration: none\">\n",
      "+       Quotes to Scrape\n",
      "+      </a>\n",
      "+     </h1>\n",
      "     </div>\n",
      "-\n",
      "-    <div class=\"quote\" itemscope itemtype=\"http://schema.org/CreativeWork\">\n",
      "-        <span class=\"text\" itemprop=\"text\">“It is our choices, Harry, that show what we truly are, far more than our abilities.”</span>\n",
      "-        <span>by <small class=\"author\" itemprop=\"author\">J.K. Rowling</small>\n",
      "-        <a href=\"/author/J-K-Rowling\">(about)</a>\n",
      "-        </span>\n",
      "-        <div class=\"tags\">\n",
      "-            Tags:\n",
      "-            <meta class=\"keywords\" itemprop=\"keywords\" content=\"abilities,choices\" /    > \n",
      "-            \n",
      "-            <a class=\"tag\" href=\"/tag/abilities/page/1/\">abilities</a>\n",
      "-            \n",
      "-            <a class=\"tag\" href=\"/tag/choices/page/1/\">choices</a>\n",
      "-            \n",
      "-        </div>\n",
      "+    <div class=\"col-md-4\">\n",
      "+     <p>\n",
      "+      <a href=\"/login\">\n",
      "+       Login\n",
      "+      </a>\n",
      "+     </p>\n",
      "     </div>\n",
      "-\n",
      "-    <div class=\"quote\" itemscope itemtype=\"http://schema.org/CreativeWork\">\n",
      "-        <span class=\"text\" itemprop=\"text\">“There are only two ways to live your life. One is as though nothing is a miracle. The other is as though everything is a miracle.”</span>\n",
      "-        <span>by <small class=\"author\" itemprop=\"author\">Albert Einstein</small>\n",
      "-        <a href=\"/author/Albert-Einstein\">(about)</a>\n",
      "-        </span>\n",
      "-        <div class=\"tags\">\n",
      "-            Tags:\n",
      "-            <meta class=\"keywords\" itemprop=\"keywords\" content=\"inspirational,life,live,miracle,miracles\" /    > \n",
      "-            \n",
      "... (truncated)\n"
     ]
    }
   ],
   "source": [
    "import requests\n",
    "from bs4 import BeautifulSoup\n",
    "import difflib\n",
    "\n",
    "# Step 1: Send the request\n",
    "url = 'http://quotes.toscrape.com/'\n",
    "headers = {\n",
    "    \"User-Agent\": \"Mozilla/5.0\"\n",
    "}\n",
    "response = requests.get(url, headers=headers)\n",
    "\n",
    "# Step 2: Get raw HTML\n",
    "raw_html = response.text.splitlines()\n",
    "\n",
    "# Step 3: Parse with BeautifulSoup\n",
    "soup = BeautifulSoup(response.text, 'html.parser')\n",
    "parsed_html = soup.prettify().splitlines()\n",
    "\n",
    "# Step 4: Compare using difflib\n",
    "diff = difflib.unified_diff(\n",
    "    raw_html,\n",
    "    parsed_html,\n",
    "    fromfile='Raw HTML',\n",
    "    tofile='Parsed HTML',\n",
    "    lineterm=''\n",
    ")\n",
    "\n",
    "# Step 5: Print differences (first 100 lines for readability)\n",
    "print(\"\\n--- Differences between Raw and Parsed HTML (first 100 lines) ---\\n\")\n",
    "for i, line in enumerate(diff):\n",
    "    if i > 100:\n",
    "        print(\"... (truncated)\")\n",
    "        break\n",
    "    print(line)\n"
   ]
  },
  {
   "cell_type": "code",
   "execution_count": null,
   "metadata": {},
   "outputs": [],
   "source": []
  }
 ],
 "metadata": {
  "kernelspec": {
   "display_name": "Python 3",
   "language": "python",
   "name": "python3"
  },
  "language_info": {
   "codemirror_mode": {
    "name": "ipython",
    "version": 3
   },
   "file_extension": ".py",
   "mimetype": "text/x-python",
   "name": "python",
   "nbconvert_exporter": "python",
   "pygments_lexer": "ipython3",
   "version": "3.12.2"
  }
 },
 "nbformat": 4,
 "nbformat_minor": 2
}
